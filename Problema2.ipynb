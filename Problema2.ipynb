{
 "cells": [
  {
   "cell_type": "markdown",
   "metadata": {},
   "source": [
    "# Problema2\n",
    "\n",
    "\n",
    "Lea el archivo 'winemag-data-130k-v2.csv' y realice lo siguiente:\n",
    "\n",
    "- Explore el dataframe según lo visto en clase\n",
    "- Realice al menos  4 renombre de columna y 3 creación de nuevas columnas según criterio. Deberá crear las columnas que crea conveniente. \n",
    "    Ejemplo: Según el país etiquetelos según continente.\n",
    "\n",
    "- Genere 4 reportes por agrupamiento de datos. Deberá elegir que reportes realizar\n",
    "    - Ejemplo: Por contienente mostrar los vinos mejor puntuados\n",
    "    - Ejemplo2: Promedio de precio de vino y cantidad de reviews obtenidos según pais. Ordenado de mejor a peor \n",
    "\n",
    "\n",
    "- Al menos uno de estos datos agrupados deberán ser almacenados en excel o csv\n",
    "   \n",
    "   Puede revisar esta solución https://stackoverflow.com/questions/25789264/pandas-dataframegroupby-export-to-excel\n",
    "\n",
    "\n",
    "\n",
    "### Datos \n",
    "\n",
    "winemag-data-130k-v2.csv\n",
    "- https://github.com/gdelgador/ProgramacionPython202401/blob/main/Modulo5/src/winemag-data-130k-v2.csv\n",
    "\n",
    "País según continente:\n",
    "- https://gist.githubusercontent.com/kintero/7d1db891401f56256c79/raw/a61f6d0dda82c3f04d2e6e76c3870552ef6cf0c6/paises.csv\n",
    " \n",
    "\n",
    "\n",
    "\n",
    "\n"
   ]
  },
  {
   "cell_type": "code",
   "execution_count": null,
   "metadata": {},
   "outputs": [],
   "source": [
    "import pandas as pd\n",
    "\n",
    "# Cargar el archivo CSV\n",
    "df = pd.read_csv('winemag-data-130k-v2.csv', index_col=0)\n",
    "\n",
    "# Explorar el DataFrame\n",
    "print(df.head())  # Mostrar las primeras filas del DataFrame\n",
    "print(df.info())  # Obtener información sobre el DataFrame\n",
    "print(df.describe())  # Resumen estadístico del DataFrame\n",
    "\n",
    "# Renombrar columnas\n",
    "df.rename(columns={'country': 'pais', 'province': 'region', 'variety': 'variedad', 'points': 'puntuacion'}, inplace=True)\n"
   ]
  },
  {
   "cell_type": "code",
   "execution_count": null,
   "metadata": {},
   "outputs": [],
   "source": [
    "\n",
    "# Crear nuevas columnas\n",
    "\n",
    "# 1. Crear una columna para indicar si el vino es de alta o baja calidad basado en la puntuación\n",
    "df['calidad'] = df['puntuacion'].apply(lambda x: 'Alta' if x >= 90 else 'Baja')\n",
    "\n",
    "# 2. Crear una columna para indicar el rango de precios del vino\n",
    "def price_range(price):\n",
    "    if price < 20:\n",
    "        return 'Barato'\n",
    "    elif price >= 20 and price < 50:\n",
    "        return 'Moderado'\n",
    "    else:\n",
    "        return 'Caro'\n",
    "\n",
    "df['rango_precio'] = df['price'].apply(price_range)\n",
    "\n",
    "# 3. Crear una columna para indicar la edad del viñedo en años\n",
    "df['edad_vinedo'] = 2024 - df['year']\n",
    "\n",
    "# Mostrar las primeras filas para verificar los cambios\n",
    "print(df.head())"
   ]
  },
  {
   "cell_type": "code",
   "execution_count": null,
   "metadata": {},
   "outputs": [],
   "source": [
    "# Creación de 4 reportes de datos\n",
    "\n",
    "# Reporte 1: Promedio de precio de vino y cantidad de reviews obtenidos según país\n",
    "reporte_precio_reviews = df.groupby('pais').agg({'price': 'mean', 'review_description': 'count'}).sort_values(by='price', ascending=False)\n",
    "\n",
    "reporte_precio_reviews.to_excel('reporte_precio_reviews.xlsx')  # Guardar el reporte en Excel\n",
    "print(reporte_precio_reviews)\n",
    "\n",
    "# Reporte 2: Promedio de puntuación de vinos por variedad\n",
    "reporte_puntuacion_variedad = df.groupby('variedad').agg({'puntuacion': 'mean'}).sort_values(by='puntuacion', ascending=False)\n",
    "print(reporte_puntuacion_variedad)\n",
    "\n",
    "# Reporte 3: Número de vinos de alta y baja calidad por país\n",
    "reporte_calidad_pais = df.groupby(['pais', 'calidad']).size().unstack(fill_value=0)\n",
    "print(reporte_calidad_pais)\n",
    "\n",
    "# Reporte 4: Puntuación media de vinos por rango de precio\n",
    "reporte_puntuacion_precio = df.groupby('rango_precio').agg({'puntuacion': 'mean'}).sort_values(by='puntuacion', ascending=False)\n",
    "print(reporte_puntuacion_precio)"
   ]
  }
 ],
 "metadata": {
  "language_info": {
   "name": "python"
  }
 },
 "nbformat": 4,
 "nbformat_minor": 2
}
